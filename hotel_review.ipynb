{
 "cells": [
  {
   "cell_type": "code",
   "execution_count": 121,
   "metadata": {},
   "outputs": [],
   "source": [
    "import pandas as pd\n",
    "import numpy as np\n",
    "import nltk\n",
    "from nltk.corpus import stopwords\n",
    "from nltk.stem import PorterStemmer\n",
    "import string\n",
    "import demoji  # For removing emojis\n",
    "from langdetect import detect\n",
    "from nltk.sentiment.vader import SentimentIntensityAnalyzer\n",
    "import matplotlib.pyplot as plt\n",
    "import seaborn as sns\n",
    "import emoji\n"
   ]
  },
  {
   "cell_type": "code",
   "execution_count": 22,
   "metadata": {},
   "outputs": [],
   "source": [
    "df = pd.read_csv('Copy of Data Analyst - Test Data - US.csv')"
   ]
  },
  {
   "cell_type": "code",
   "execution_count": 23,
   "metadata": {},
   "outputs": [
    {
     "data": {
      "text/html": [
       "<div>\n",
       "<style scoped>\n",
       "    .dataframe tbody tr th:only-of-type {\n",
       "        vertical-align: middle;\n",
       "    }\n",
       "\n",
       "    .dataframe tbody tr th {\n",
       "        vertical-align: top;\n",
       "    }\n",
       "\n",
       "    .dataframe thead th {\n",
       "        text-align: right;\n",
       "    }\n",
       "</style>\n",
       "<table border=\"1\" class=\"dataframe\">\n",
       "  <thead>\n",
       "    <tr style=\"text-align: right;\">\n",
       "      <th></th>\n",
       "      <th>Review</th>\n",
       "      <th>date</th>\n",
       "      <th>Location</th>\n",
       "    </tr>\n",
       "  </thead>\n",
       "  <tbody>\n",
       "    <tr>\n",
       "      <th>0</th>\n",
       "      <td>I was very impressed with the resort.\\n Great ...</td>\n",
       "      <td>20/08/2019</td>\n",
       "      <td>Sebastian</td>\n",
       "    </tr>\n",
       "    <tr>\n",
       "      <th>1</th>\n",
       "      <td>The rooms were nice the outside needs work als...</td>\n",
       "      <td>20/08/2019</td>\n",
       "      <td>Los Angeles</td>\n",
       "    </tr>\n",
       "    <tr>\n",
       "      <th>2</th>\n",
       "      <td>Great location! I have stayed at this hotel on...</td>\n",
       "      <td>20/08/2019</td>\n",
       "      <td>Georgia</td>\n",
       "    </tr>\n",
       "    <tr>\n",
       "      <th>3</th>\n",
       "      <td>The hotel was adequate for my stay. The strips...</td>\n",
       "      <td>20/08/2019</td>\n",
       "      <td>NaN</td>\n",
       "    </tr>\n",
       "    <tr>\n",
       "      <th>4</th>\n",
       "      <td>Great location, room was large and spacious. P...</td>\n",
       "      <td>19/08/2019</td>\n",
       "      <td>Palm Harbor</td>\n",
       "    </tr>\n",
       "  </tbody>\n",
       "</table>\n",
       "</div>"
      ],
      "text/plain": [
       "                                              Review        date     Location\n",
       "0  I was very impressed with the resort.\\n Great ...  20/08/2019    Sebastian\n",
       "1  The rooms were nice the outside needs work als...  20/08/2019  Los Angeles\n",
       "2  Great location! I have stayed at this hotel on...  20/08/2019      Georgia\n",
       "3  The hotel was adequate for my stay. The strips...  20/08/2019          NaN\n",
       "4  Great location, room was large and spacious. P...  19/08/2019  Palm Harbor"
      ]
     },
     "execution_count": 23,
     "metadata": {},
     "output_type": "execute_result"
    }
   ],
   "source": [
    "df.head()"
   ]
  },
  {
   "cell_type": "markdown",
   "metadata": {},
   "source": [
    "# Data Cleaning"
   ]
  },
  {
   "cell_type": "code",
   "execution_count": 24,
   "metadata": {},
   "outputs": [
    {
     "data": {
      "text/plain": [
       "Review        55\n",
       "date           0\n",
       "Location    4737\n",
       "dtype: int64"
      ]
     },
     "execution_count": 24,
     "metadata": {},
     "output_type": "execute_result"
    }
   ],
   "source": [
    "df.isnull().sum()"
   ]
  },
  {
   "cell_type": "code",
   "execution_count": 25,
   "metadata": {},
   "outputs": [],
   "source": [
    "#remove NUll Reviews\n",
    "df = data.dropna(subset = ['Review'] )\n"
   ]
  },
  {
   "cell_type": "code",
   "execution_count": 26,
   "metadata": {},
   "outputs": [
    {
     "data": {
      "text/plain": [
       "Review         0\n",
       "date           0\n",
       "Location    4688\n",
       "dtype: int64"
      ]
     },
     "execution_count": 26,
     "metadata": {},
     "output_type": "execute_result"
    }
   ],
   "source": [
    "df.isnull().sum()"
   ]
  },
  {
   "cell_type": "code",
   "execution_count": 31,
   "metadata": {},
   "outputs": [
    {
     "data": {
      "text/html": [
       "<div>\n",
       "<style scoped>\n",
       "    .dataframe tbody tr th:only-of-type {\n",
       "        vertical-align: middle;\n",
       "    }\n",
       "\n",
       "    .dataframe tbody tr th {\n",
       "        vertical-align: top;\n",
       "    }\n",
       "\n",
       "    .dataframe thead th {\n",
       "        text-align: right;\n",
       "    }\n",
       "</style>\n",
       "<table border=\"1\" class=\"dataframe\">\n",
       "  <thead>\n",
       "    <tr style=\"text-align: right;\">\n",
       "      <th></th>\n",
       "      <th>Review</th>\n",
       "      <th>date</th>\n",
       "      <th>Location</th>\n",
       "    </tr>\n",
       "  </thead>\n",
       "  <tbody>\n",
       "    <tr>\n",
       "      <th>0</th>\n",
       "      <td>I was very impressed with the resort.\\n Great ...</td>\n",
       "      <td>20/08/2019</td>\n",
       "      <td>Sebastian</td>\n",
       "    </tr>\n",
       "    <tr>\n",
       "      <th>1</th>\n",
       "      <td>The rooms were nice the outside needs work als...</td>\n",
       "      <td>20/08/2019</td>\n",
       "      <td>Los Angeles</td>\n",
       "    </tr>\n",
       "    <tr>\n",
       "      <th>2</th>\n",
       "      <td>Great location! I have stayed at this hotel on...</td>\n",
       "      <td>20/08/2019</td>\n",
       "      <td>Georgia</td>\n",
       "    </tr>\n",
       "    <tr>\n",
       "      <th>3</th>\n",
       "      <td>The hotel was adequate for my stay. The strips...</td>\n",
       "      <td>20/08/2019</td>\n",
       "      <td>NaN</td>\n",
       "    </tr>\n",
       "    <tr>\n",
       "      <th>4</th>\n",
       "      <td>Great location, room was large and spacious. P...</td>\n",
       "      <td>19/08/2019</td>\n",
       "      <td>Palm Harbor</td>\n",
       "    </tr>\n",
       "    <tr>\n",
       "      <th>...</th>\n",
       "      <td>...</td>\n",
       "      <td>...</td>\n",
       "      <td>...</td>\n",
       "    </tr>\n",
       "    <tr>\n",
       "      <th>96</th>\n",
       "      <td>Shower appears to have mold on ceiling, wallpa...</td>\n",
       "      <td>10/08/2019</td>\n",
       "      <td>NaN</td>\n",
       "    </tr>\n",
       "    <tr>\n",
       "      <th>97</th>\n",
       "      <td>The hotel set as 4.5* yet the service is low 1...</td>\n",
       "      <td>10/08/2019</td>\n",
       "      <td>NaN</td>\n",
       "    </tr>\n",
       "    <tr>\n",
       "      <th>98</th>\n",
       "      <td>Simplemente espectacular en todo sentido y mom...</td>\n",
       "      <td>09/08/2019</td>\n",
       "      <td>NaN</td>\n",
       "    </tr>\n",
       "    <tr>\n",
       "      <th>99</th>\n",
       "      <td>All good i feel at home on this place even we ...</td>\n",
       "      <td>09/08/2019</td>\n",
       "      <td>NaN</td>\n",
       "    </tr>\n",
       "    <tr>\n",
       "      <th>100</th>\n",
       "      <td>Likes:\\n The bed was very comfortable. \\n \\n D...</td>\n",
       "      <td>09/08/2019</td>\n",
       "      <td>NaN</td>\n",
       "    </tr>\n",
       "  </tbody>\n",
       "</table>\n",
       "<p>100 rows × 3 columns</p>\n",
       "</div>"
      ],
      "text/plain": [
       "                                                Review        date  \\\n",
       "0    I was very impressed with the resort.\\n Great ...  20/08/2019   \n",
       "1    The rooms were nice the outside needs work als...  20/08/2019   \n",
       "2    Great location! I have stayed at this hotel on...  20/08/2019   \n",
       "3    The hotel was adequate for my stay. The strips...  20/08/2019   \n",
       "4    Great location, room was large and spacious. P...  19/08/2019   \n",
       "..                                                 ...         ...   \n",
       "96   Shower appears to have mold on ceiling, wallpa...  10/08/2019   \n",
       "97   The hotel set as 4.5* yet the service is low 1...  10/08/2019   \n",
       "98   Simplemente espectacular en todo sentido y mom...  09/08/2019   \n",
       "99   All good i feel at home on this place even we ...  09/08/2019   \n",
       "100  Likes:\\n The bed was very comfortable. \\n \\n D...  09/08/2019   \n",
       "\n",
       "        Location  \n",
       "0      Sebastian  \n",
       "1    Los Angeles  \n",
       "2        Georgia  \n",
       "3            NaN  \n",
       "4    Palm Harbor  \n",
       "..           ...  \n",
       "96           NaN  \n",
       "97           NaN  \n",
       "98           NaN  \n",
       "99           NaN  \n",
       "100          NaN  \n",
       "\n",
       "[100 rows x 3 columns]"
      ]
     },
     "execution_count": 31,
     "metadata": {},
     "output_type": "execute_result"
    }
   ],
   "source": [
    "df.head(100)"
   ]
  },
  {
   "cell_type": "code",
   "execution_count": 32,
   "metadata": {},
   "outputs": [],
   "source": [
    "#Remove Read More and Read Less\n",
    "df['Review'] = df['Review'].str.replace('Read more', '').str.replace('Read less', '')"
   ]
  },
  {
   "cell_type": "code",
   "execution_count": 36,
   "metadata": {},
   "outputs": [
    {
     "data": {
      "text/plain": [
       "0                                                                                                                                                                                                                                                             I was very impressed with the resort.\\n Great staff at the main resort pool bar! We had a blast with them.\\n Clean, professional staff, great location and very reasonable!\\n  \\n  \\n  \n",
       "1                                                                                                                                                                                                                                                                                                                             The rooms were nice the outside needs work also no free breakfast it would have been nice overall it was ok\\n  \\n  \\n  \n",
       "2                                                                                                                                                                                                                                                                                                                                                         Great location! I have stayed at this hotel on my last three trips to New York.\\n  \\n  \\n  \n",
       "3    The hotel was adequate for my stay. The strips in the bathtub were useless as I fell while taking a shower. I asked the front desk staff several times to get a bath mat but they never did. Management was unresponsive to my request which was very poor; someone should have gone to a dollar store and gotten a bath mat. Breakfast was good but it would have been nice to have had yogurt and/or cottage cheese on the buffet.\\n  \\n  \\n  \n",
       "4                                                                                                                                                                                                                                                                                                                                     Great location, room was large and spacious. Parking was easy and we appreciated the friendly staff\\n  \\n  \\n  \n",
       "5                                                                                                                                                                                                                                                                                                        All the options for fun were great! Do wish there were a better policy on the lazy river floats. Lots of people\\n Hoarding them.\\n  \\n  \\n  \n",
       "6                                                                                                                                                                                                                                                                                                                                                                                 Old. Musty. Motel. \\n Bath need an update asap\\n !!!!!!\\n  \\n  \\n  \n",
       "7                                                                                                                                                                                                                                                         Loved the layout of the hotel and the relaxing pool area.\\n Only con was housekeeping/maintenance staff passing the room with carts and speaking loudly on radios at 7-7:30 am.\\n  \\n  \\n  \n",
       "8                                                                                                                                                                                                                                                                                  My wife and I loved everything about it. It’s close to everything and everywhere. \\n We will be recommending to others and we will definitely be back.\\n  \\n  \\n  \n",
       "9                                                                                                                                                                                                                                                                                   rooms were very small, was told i had a complimentary upgrade to a empire state building view room but it was a regular room, everything else was ok.\\n  \\n  \\n  \n",
       "Name: Review, dtype: object"
      ]
     },
     "execution_count": 36,
     "metadata": {},
     "output_type": "execute_result"
    }
   ],
   "source": [
    "df['Review'].head(10)"
   ]
  },
  {
   "cell_type": "code",
   "execution_count": 38,
   "metadata": {},
   "outputs": [],
   "source": [
    "df['Review'] = df['Review'].str.replace('\\n', '')"
   ]
  },
  {
   "cell_type": "code",
   "execution_count": 39,
   "metadata": {},
   "outputs": [
    {
     "data": {
      "text/plain": [
       "0                                                                                                                                                                                                                                                                 I was very impressed with the resort. Great staff at the main resort pool bar! We had a blast with them. Clean, professional staff, great location and very reasonable!      \n",
       "1                                                                                                                                                                                                                                                                                                                             The rooms were nice the outside needs work also no free breakfast it would have been nice overall it was ok      \n",
       "2                                                                                                                                                                                                                                                                                                                                                         Great location! I have stayed at this hotel on my last three trips to New York.      \n",
       "3    The hotel was adequate for my stay. The strips in the bathtub were useless as I fell while taking a shower. I asked the front desk staff several times to get a bath mat but they never did. Management was unresponsive to my request which was very poor; someone should have gone to a dollar store and gotten a bath mat. Breakfast was good but it would have been nice to have had yogurt and/or cottage cheese on the buffet.      \n",
       "4                                                                                                                                                                                                                                                                                                                                     Great location, room was large and spacious. Parking was easy and we appreciated the friendly staff      \n",
       "5                                                                                                                                                                                                                                                                                                          All the options for fun were great! Do wish there were a better policy on the lazy river floats. Lots of people Hoarding them.      \n",
       "6                                                                                                                                                                                                                                                                                                                                                                                     Old. Musty. Motel.  Bath need an update asap !!!!!!      \n",
       "7                                                                                                                                                                                                                                                           Loved the layout of the hotel and the relaxing pool area. Only con was housekeeping/maintenance staff passing the room with carts and speaking loudly on radios at 7-7:30 am.      \n",
       "8                                                                                                                                                                                                                                                                                    My wife and I loved everything about it. It’s close to everything and everywhere.  We will be recommending to others and we will definitely be back.      \n",
       "9                                                                                                                                                                                                                                                                                   rooms were very small, was told i had a complimentary upgrade to a empire state building view room but it was a regular room, everything else was ok.      \n",
       "Name: Review, dtype: object"
      ]
     },
     "execution_count": 39,
     "metadata": {},
     "output_type": "execute_result"
    }
   ],
   "source": [
    "df['Review'].head(10)"
   ]
  },
  {
   "cell_type": "code",
   "execution_count": 40,
   "metadata": {},
   "outputs": [],
   "source": [
    "df.to_csv('Data_Analysis.csv', index=False)"
   ]
  },
  {
   "cell_type": "code",
   "execution_count": 45,
   "metadata": {},
   "outputs": [
    {
     "name": "stderr",
     "output_type": "stream",
     "text": [
      "[nltk_data] Downloading package stopwords to\n",
      "[nltk_data]     /Users/ketankinniwadi/nltk_data...\n",
      "[nltk_data]   Unzipping corpora/stopwords.zip.\n",
      "[nltk_data] Downloading package punkt to\n",
      "[nltk_data]     /Users/ketankinniwadi/nltk_data...\n",
      "[nltk_data]   Unzipping tokenizers/punkt.zip.\n"
     ]
    },
    {
     "data": {
      "text/plain": [
       "True"
      ]
     },
     "execution_count": 45,
     "metadata": {},
     "output_type": "execute_result"
    }
   ],
   "source": [
    "nltk.download('stopwords')\n",
    "nltk.download('punkt')\n"
   ]
  },
  {
   "cell_type": "code",
   "execution_count": 61,
   "metadata": {},
   "outputs": [],
   "source": [
    "reviews = df['Review']\n",
    "# Initialize the NLTK stemmer and get a list of stopwords\n",
    "stemmer = PorterStemmer()\n",
    "stop_words = set(stopwords.words('english'))\n",
    "\n",
    "# Remove punctuation, emojis, and non-English reviews\n",
    "def preprocess_review(review):\n",
    "    # Remove emojis\n",
    "    review = demoji.replace(review, '')\n",
    "\n",
    "    # Detect the language of the review and only process English reviews\n",
    "    try:\n",
    "        if detect(review) != 'en':\n",
    "            return None\n",
    "    except:\n",
    "        pass\n",
    "\n",
    "    # Remove punctuation and convert to lowercase\n",
    "    review = review.translate(str.maketrans('', '', string.punctuation)).lower()\n",
    "\n",
    "    # Tokenize the review (split it into words)\n",
    "    tokens = nltk.word_tokenize(review)\n",
    "\n",
    "    # Remove stopwords and apply stemming\n",
    "    cleaned_tokens = [stemmer.stem(token) for token in tokens if token not in stop_words]\n",
    "\n",
    "    # Join the cleaned tokens back into a single string\n",
    "    cleaned_review = ' '.join(cleaned_tokens)\n",
    "\n",
    "    return cleaned_review\n",
    "\n",
    "# Apply the preprocessing function to all reviews in the DataFrame\n",
    "df['cleaned_review'] = reviews.apply(preprocess_review)\n",
    "\n",
    "# Remove rows with non-English reviews\n",
    "df.dropna(subset=['cleaned_review'], inplace=True)\n"
   ]
  },
  {
   "cell_type": "code",
   "execution_count": 47,
   "metadata": {},
   "outputs": [],
   "source": [
    "df.to_csv('cleaned_reviews.csv', index=False)"
   ]
  },
  {
   "cell_type": "code",
   "execution_count": 56,
   "metadata": {},
   "outputs": [
    {
     "data": {
      "text/html": [
       "<div>\n",
       "<style scoped>\n",
       "    .dataframe tbody tr th:only-of-type {\n",
       "        vertical-align: middle;\n",
       "    }\n",
       "\n",
       "    .dataframe tbody tr th {\n",
       "        vertical-align: top;\n",
       "    }\n",
       "\n",
       "    .dataframe thead th {\n",
       "        text-align: right;\n",
       "    }\n",
       "</style>\n",
       "<table border=\"1\" class=\"dataframe\">\n",
       "  <thead>\n",
       "    <tr style=\"text-align: right;\">\n",
       "      <th></th>\n",
       "      <th>Review</th>\n",
       "      <th>date</th>\n",
       "      <th>Location</th>\n",
       "      <th>cleaned_review</th>\n",
       "    </tr>\n",
       "  </thead>\n",
       "  <tbody>\n",
       "    <tr>\n",
       "      <th>0</th>\n",
       "      <td>I was very impressed with the resort. Great staff at the main resort pool bar! We had a blast with them. Clean, professional staff, great location and very reasonable!</td>\n",
       "      <td>20/08/2019</td>\n",
       "      <td>Sebastian</td>\n",
       "      <td>impress resort great staff main resort pool bar blast clean profession staff great locat reason</td>\n",
       "    </tr>\n",
       "    <tr>\n",
       "      <th>1</th>\n",
       "      <td>The rooms were nice the outside needs work also no free breakfast it would have been nice overall it was ok</td>\n",
       "      <td>20/08/2019</td>\n",
       "      <td>Los Angeles</td>\n",
       "      <td>room nice outsid need work also free breakfast would nice overal ok</td>\n",
       "    </tr>\n",
       "    <tr>\n",
       "      <th>2</th>\n",
       "      <td>Great location! I have stayed at this hotel on my last three trips to New York.</td>\n",
       "      <td>20/08/2019</td>\n",
       "      <td>Georgia</td>\n",
       "      <td>great locat stay hotel last three trip new york</td>\n",
       "    </tr>\n",
       "    <tr>\n",
       "      <th>3</th>\n",
       "      <td>The hotel was adequate for my stay. The strips in the bathtub were useless as I fell while taking a shower. I asked the front desk staff several times to get a bath mat but they never did. Management was unresponsive to my request which was very poor; someone should have gone to a dollar store and gotten a bath mat. Breakfast was good but it would have been nice to have had yogurt and/or cottage cheese on the buffet.</td>\n",
       "      <td>20/08/2019</td>\n",
       "      <td>NaN</td>\n",
       "      <td>hotel adequ stay strip bathtub useless fell take shower ask front desk staff sever time get bath mat never manag unrespons request poor someon gone dollar store gotten bath mat breakfast good would nice yogurt andor cottag chees buffet</td>\n",
       "    </tr>\n",
       "    <tr>\n",
       "      <th>4</th>\n",
       "      <td>Great location, room was large and spacious. Parking was easy and we appreciated the friendly staff</td>\n",
       "      <td>19/08/2019</td>\n",
       "      <td>Palm Harbor</td>\n",
       "      <td>great locat room larg spaciou park easi appreci friendli staff</td>\n",
       "    </tr>\n",
       "  </tbody>\n",
       "</table>\n",
       "</div>"
      ],
      "text/plain": [
       "                                                                                                                                                                                                                                                                                                                                                                                                                                       Review  \\\n",
       "0                                                                                                                                                                                                                                                               I was very impressed with the resort. Great staff at the main resort pool bar! We had a blast with them. Clean, professional staff, great location and very reasonable!         \n",
       "1                                                                                                                                                                                                                                                                                                                           The rooms were nice the outside needs work also no free breakfast it would have been nice overall it was ok         \n",
       "2                                                                                                                                                                                                                                                                                                                                                       Great location! I have stayed at this hotel on my last three trips to New York.         \n",
       "3  The hotel was adequate for my stay. The strips in the bathtub were useless as I fell while taking a shower. I asked the front desk staff several times to get a bath mat but they never did. Management was unresponsive to my request which was very poor; someone should have gone to a dollar store and gotten a bath mat. Breakfast was good but it would have been nice to have had yogurt and/or cottage cheese on the buffet.         \n",
       "4                                                                                                                                                                                                                                                                                                                                   Great location, room was large and spacious. Parking was easy and we appreciated the friendly staff         \n",
       "\n",
       "         date     Location  \\\n",
       "0  20/08/2019    Sebastian   \n",
       "1  20/08/2019  Los Angeles   \n",
       "2  20/08/2019      Georgia   \n",
       "3  20/08/2019          NaN   \n",
       "4  19/08/2019  Palm Harbor   \n",
       "\n",
       "                                                                                                                                                                                                                                cleaned_review  \n",
       "0                                                                                                                                              impress resort great staff main resort pool bar blast clean profession staff great locat reason  \n",
       "1                                                                                                                                                                          room nice outsid need work also free breakfast would nice overal ok  \n",
       "2                                                                                                                                                                                              great locat stay hotel last three trip new york  \n",
       "3  hotel adequ stay strip bathtub useless fell take shower ask front desk staff sever time get bath mat never manag unrespons request poor someon gone dollar store gotten bath mat breakfast good would nice yogurt andor cottag chees buffet  \n",
       "4                                                                                                                                                                               great locat room larg spaciou park easi appreci friendli staff  "
      ]
     },
     "execution_count": 56,
     "metadata": {},
     "output_type": "execute_result"
    }
   ],
   "source": [
    "df.head()"
   ]
  },
  {
   "cell_type": "code",
   "execution_count": 52,
   "metadata": {},
   "outputs": [
    {
     "name": "stderr",
     "output_type": "stream",
     "text": [
      "[nltk_data] Downloading package vader_lexicon to\n",
      "[nltk_data]     /Users/ketankinniwadi/nltk_data...\n"
     ]
    },
    {
     "data": {
      "text/plain": [
       "True"
      ]
     },
     "execution_count": 52,
     "metadata": {},
     "output_type": "execute_result"
    }
   ],
   "source": [
    "nltk.download('vader_lexicon')"
   ]
  },
  {
   "cell_type": "code",
   "execution_count": 62,
   "metadata": {},
   "outputs": [
    {
     "name": "stdout",
     "output_type": "stream",
     "text": [
      "                                                                                                                                                                                                                                                                                                                                                                                                                                                                                                                                                                                                                                                                                                     Review  \\\n",
      "0                                                                                                                                                                                                                                                                                                                                                                                                                                                                                                                             I was very impressed with the resort. Great staff at the main resort pool bar! We had a blast with them. Clean, professional staff, great location and very reasonable!         \n",
      "1                                                                                                                                                                                                                                                                                                                                                                                                                                                                                                                                                                                         The rooms were nice the outside needs work also no free breakfast it would have been nice overall it was ok         \n",
      "2                                                                                                                                                                                                                                                                                                                                                                                                                                                                                                                                                                                                                     Great location! I have stayed at this hotel on my last three trips to New York.         \n",
      "3                                                                                                                                                                                                                                                                The hotel was adequate for my stay. The strips in the bathtub were useless as I fell while taking a shower. I asked the front desk staff several times to get a bath mat but they never did. Management was unresponsive to my request which was very poor; someone should have gone to a dollar store and gotten a bath mat. Breakfast was good but it would have been nice to have had yogurt and/or cottage cheese on the buffet.         \n",
      "4                                                                                                                                                                                                                                                                                                                                                                                                                                                                                                                                                                                                 Great location, room was large and spacious. Parking was easy and we appreciated the friendly staff         \n",
      "...                                                                                                                                                                                                                                                                                                                                                                                                                                                                                                                                                                                                                                                                                                     ...   \n",
      "5777  ·the staff were all so friendly. frank, the chef at the buffet bar was over the top in meeting our needs. 2 of us eat gluten free. after the first day of ordering a more specialized array of foods, he would see us the following mornings and have the gluten free items cooking before we got to the counter to order. he even surprised us with special foods as well. it absolutely made the entire stay better than we could have imagined.     ·it would have been nice if the towel counter st the pool was open the whole time. it rained on and off alot during our stay, so we spent all of our time at the beach. there were a few times we were unable to acquire towels for the beach.   \n",
      "5778                                                                                                                                                                                                                                                                                                                                                                                                                                                                                                                                                                                                                                                             ·the internet barely worked or didn't work   \n",
      "5779                                                                                                                                                                                                                                                                                                                                                                                                                                                                                                                                                                                                              ·the location was great.     ·the bed was the most uncomfortable bed i have ever been in.   \n",
      "5780                                                                                                                                                                                                                                                                                                                                                                                                                                                                                                                                                                     ·we were early for check in and the staff was very accommodating. we were able to check in several hours before the check in time.   \n",
      "5781                                                                                                                                                                                                                                                                                                                                                                                                                                                                                                                                                                                     ·staff, free coffee, location and activities.     ·the beds were smaller than we thought and not very comfortable.   \n",
      "\n",
      "            date                  Location  \\\n",
      "0     20/08/2019                 Sebastian   \n",
      "1     20/08/2019               Los Angeles   \n",
      "2     20/08/2019                   Georgia   \n",
      "3     20/08/2019                       NaN   \n",
      "4     19/08/2019               Palm Harbor   \n",
      "...          ...                       ...   \n",
      "5777  12/07/2019  United States of America   \n",
      "5778  12/07/2019  United States of America   \n",
      "5779  10/07/2019  United States of America   \n",
      "5780  10/07/2019  United States of America   \n",
      "5781  10/07/2019  United States of America   \n",
      "\n",
      "                                                                                                                                                                                                                                                                                                                                                                         cleaned_review  \\\n",
      "0                                                                                                                                                                                                                                                                                       impress resort great staff main resort pool bar blast clean profession staff great locat reason   \n",
      "1                                                                                                                                                                                                                                                                                                                   room nice outsid need work also free breakfast would nice overal ok   \n",
      "2                                                                                                                                                                                                                                                                                                                                       great locat stay hotel last three trip new york   \n",
      "3                                                                                                                                           hotel adequ stay strip bathtub useless fell take shower ask front desk staff sever time get bath mat never manag unrespons request poor someon gone dollar store gotten bath mat breakfast good would nice yogurt andor cottag chees buffet   \n",
      "4                                                                                                                                                                                                                                                                                                                        great locat room larg spaciou park easi appreci friendli staff   \n",
      "...                                                                                                                                                                                                                                                                                                                                                                                 ...   \n",
      "5777  ·the staff friendli frank chef buffet bar top meet need 2 us eat gluten free first day order special array food would see us follow morn gluten free item cook got counter order even surpris us special food well absolut made entir stay better could imagin ·it would nice towel counter st pool open whole time rain alot stay spent time beach time unabl acquir towel beach   \n",
      "5778                                                                                                                                                                                                                                                                                                                                                 ·the internet bare work didnt work   \n",
      "5779                                                                                                                                                                                                                                                                                                                                       ·the locat great ·the bed uncomfort bed ever   \n",
      "5780                                                                                                                                                                                                                                                                                                                     ·we earli check staff accommod abl check sever hour check time   \n",
      "5781                                                                                                                                                                                                                                                                                                                     ·staff free coffe locat activ ·the bed smaller thought comfort   \n",
      "\n",
      "      Sentiment Score Sentiment Label  \n",
      "0              0.9300        Positive  \n",
      "1              0.8779        Positive  \n",
      "2              0.6249        Positive  \n",
      "3             -0.0516        Negative  \n",
      "4              0.6249        Positive  \n",
      "...               ...             ...  \n",
      "5777           0.9618        Positive  \n",
      "5778           0.0000         Neutral  \n",
      "5779           0.6249        Positive  \n",
      "5780           0.0000         Neutral  \n",
      "5781           0.7003        Positive  \n",
      "\n",
      "[5777 rows x 6 columns]\n"
     ]
    }
   ],
   "source": [
    "sia = SentimentIntensityAnalyzer()\n",
    "def calculate_sentiment(review):\n",
    "    polarity_scores = sia.polarity_scores(review)\n",
    "    return polarity_scores['compound']\n",
    "\n",
    "# Apply the sentiment analysis function to each review and create a new column\n",
    "df['Sentiment Score'] = df['cleaned_review'].apply(calculate_sentiment)\n",
    "\n",
    "# Assign sentiment labels based on the compound score\n",
    "def assign_sentiment_label(compound_score):\n",
    "    if compound_score >= 0.05:\n",
    "        return \"Positive\"\n",
    "    elif compound_score <= -0.05:\n",
    "        return \"Negative\"\n",
    "    else:\n",
    "        return \"Neutral\"\n",
    "\n",
    "df['Sentiment Label'] = df['Sentiment Score'].apply(assign_sentiment_label)\n",
    "\n",
    "# Print the DataFrame with sentiment scores and labels\n",
    "print(df)"
   ]
  },
  {
   "cell_type": "code",
   "execution_count": 63,
   "metadata": {},
   "outputs": [
    {
     "data": {
      "text/html": [
       "<div>\n",
       "<style scoped>\n",
       "    .dataframe tbody tr th:only-of-type {\n",
       "        vertical-align: middle;\n",
       "    }\n",
       "\n",
       "    .dataframe tbody tr th {\n",
       "        vertical-align: top;\n",
       "    }\n",
       "\n",
       "    .dataframe thead th {\n",
       "        text-align: right;\n",
       "    }\n",
       "</style>\n",
       "<table border=\"1\" class=\"dataframe\">\n",
       "  <thead>\n",
       "    <tr style=\"text-align: right;\">\n",
       "      <th></th>\n",
       "      <th>Review</th>\n",
       "      <th>date</th>\n",
       "      <th>Location</th>\n",
       "      <th>cleaned_review</th>\n",
       "      <th>Sentiment Score</th>\n",
       "      <th>Sentiment Label</th>\n",
       "    </tr>\n",
       "  </thead>\n",
       "  <tbody>\n",
       "    <tr>\n",
       "      <th>0</th>\n",
       "      <td>I was very impressed with the resort. Great staff at the main resort pool bar! We had a blast with them. Clean, professional staff, great location and very reasonable!</td>\n",
       "      <td>20/08/2019</td>\n",
       "      <td>Sebastian</td>\n",
       "      <td>impress resort great staff main resort pool bar blast clean profession staff great locat reason</td>\n",
       "      <td>0.9300</td>\n",
       "      <td>Positive</td>\n",
       "    </tr>\n",
       "    <tr>\n",
       "      <th>1</th>\n",
       "      <td>The rooms were nice the outside needs work also no free breakfast it would have been nice overall it was ok</td>\n",
       "      <td>20/08/2019</td>\n",
       "      <td>Los Angeles</td>\n",
       "      <td>room nice outsid need work also free breakfast would nice overal ok</td>\n",
       "      <td>0.8779</td>\n",
       "      <td>Positive</td>\n",
       "    </tr>\n",
       "    <tr>\n",
       "      <th>2</th>\n",
       "      <td>Great location! I have stayed at this hotel on my last three trips to New York.</td>\n",
       "      <td>20/08/2019</td>\n",
       "      <td>Georgia</td>\n",
       "      <td>great locat stay hotel last three trip new york</td>\n",
       "      <td>0.6249</td>\n",
       "      <td>Positive</td>\n",
       "    </tr>\n",
       "    <tr>\n",
       "      <th>3</th>\n",
       "      <td>The hotel was adequate for my stay. The strips in the bathtub were useless as I fell while taking a shower. I asked the front desk staff several times to get a bath mat but they never did. Management was unresponsive to my request which was very poor; someone should have gone to a dollar store and gotten a bath mat. Breakfast was good but it would have been nice to have had yogurt and/or cottage cheese on the buffet.</td>\n",
       "      <td>20/08/2019</td>\n",
       "      <td>NaN</td>\n",
       "      <td>hotel adequ stay strip bathtub useless fell take shower ask front desk staff sever time get bath mat never manag unrespons request poor someon gone dollar store gotten bath mat breakfast good would nice yogurt andor cottag chees buffet</td>\n",
       "      <td>-0.0516</td>\n",
       "      <td>Negative</td>\n",
       "    </tr>\n",
       "    <tr>\n",
       "      <th>4</th>\n",
       "      <td>Great location, room was large and spacious. Parking was easy and we appreciated the friendly staff</td>\n",
       "      <td>19/08/2019</td>\n",
       "      <td>Palm Harbor</td>\n",
       "      <td>great locat room larg spaciou park easi appreci friendli staff</td>\n",
       "      <td>0.6249</td>\n",
       "      <td>Positive</td>\n",
       "    </tr>\n",
       "  </tbody>\n",
       "</table>\n",
       "</div>"
      ],
      "text/plain": [
       "                                                                                                                                                                                                                                                                                                                                                                                                                                       Review  \\\n",
       "0                                                                                                                                                                                                                                                               I was very impressed with the resort. Great staff at the main resort pool bar! We had a blast with them. Clean, professional staff, great location and very reasonable!         \n",
       "1                                                                                                                                                                                                                                                                                                                           The rooms were nice the outside needs work also no free breakfast it would have been nice overall it was ok         \n",
       "2                                                                                                                                                                                                                                                                                                                                                       Great location! I have stayed at this hotel on my last three trips to New York.         \n",
       "3  The hotel was adequate for my stay. The strips in the bathtub were useless as I fell while taking a shower. I asked the front desk staff several times to get a bath mat but they never did. Management was unresponsive to my request which was very poor; someone should have gone to a dollar store and gotten a bath mat. Breakfast was good but it would have been nice to have had yogurt and/or cottage cheese on the buffet.         \n",
       "4                                                                                                                                                                                                                                                                                                                                   Great location, room was large and spacious. Parking was easy and we appreciated the friendly staff         \n",
       "\n",
       "         date     Location  \\\n",
       "0  20/08/2019    Sebastian   \n",
       "1  20/08/2019  Los Angeles   \n",
       "2  20/08/2019      Georgia   \n",
       "3  20/08/2019          NaN   \n",
       "4  19/08/2019  Palm Harbor   \n",
       "\n",
       "                                                                                                                                                                                                                                cleaned_review  \\\n",
       "0                                                                                                                                              impress resort great staff main resort pool bar blast clean profession staff great locat reason   \n",
       "1                                                                                                                                                                          room nice outsid need work also free breakfast would nice overal ok   \n",
       "2                                                                                                                                                                                              great locat stay hotel last three trip new york   \n",
       "3  hotel adequ stay strip bathtub useless fell take shower ask front desk staff sever time get bath mat never manag unrespons request poor someon gone dollar store gotten bath mat breakfast good would nice yogurt andor cottag chees buffet   \n",
       "4                                                                                                                                                                               great locat room larg spaciou park easi appreci friendli staff   \n",
       "\n",
       "   Sentiment Score Sentiment Label  \n",
       "0           0.9300        Positive  \n",
       "1           0.8779        Positive  \n",
       "2           0.6249        Positive  \n",
       "3          -0.0516        Negative  \n",
       "4           0.6249        Positive  "
      ]
     },
     "execution_count": 63,
     "metadata": {},
     "output_type": "execute_result"
    }
   ],
   "source": [
    "df.head()"
   ]
  },
  {
   "cell_type": "code",
   "execution_count": 65,
   "metadata": {},
   "outputs": [],
   "source": [
    "df.to_csv('final_data.csv',index=False)"
   ]
  },
  {
   "cell_type": "code",
   "execution_count": 66,
   "metadata": {},
   "outputs": [],
   "source": [
    "df.drop('cleaned_review', axis=1, inplace=True)"
   ]
  },
  {
   "cell_type": "code",
   "execution_count": 77,
   "metadata": {},
   "outputs": [
    {
     "data": {
      "text/html": [
       "<div>\n",
       "<style scoped>\n",
       "    .dataframe tbody tr th:only-of-type {\n",
       "        vertical-align: middle;\n",
       "    }\n",
       "\n",
       "    .dataframe tbody tr th {\n",
       "        vertical-align: top;\n",
       "    }\n",
       "\n",
       "    .dataframe thead th {\n",
       "        text-align: right;\n",
       "    }\n",
       "</style>\n",
       "<table border=\"1\" class=\"dataframe\">\n",
       "  <thead>\n",
       "    <tr style=\"text-align: right;\">\n",
       "      <th></th>\n",
       "      <th>Review</th>\n",
       "      <th>date</th>\n",
       "      <th>Location</th>\n",
       "      <th>Sentiment Score</th>\n",
       "      <th>Rating</th>\n",
       "    </tr>\n",
       "  </thead>\n",
       "  <tbody>\n",
       "    <tr>\n",
       "      <th>0</th>\n",
       "      <td>I was very impressed with the resort. Great staff at the main resort pool bar! We had a blast with them. Clean, professional staff, great location and very reasonable!</td>\n",
       "      <td>20/08/2019</td>\n",
       "      <td>Sebastian</td>\n",
       "      <td>0.9300</td>\n",
       "      <td>Positive</td>\n",
       "    </tr>\n",
       "    <tr>\n",
       "      <th>1</th>\n",
       "      <td>The rooms were nice the outside needs work also no free breakfast it would have been nice overall it was ok</td>\n",
       "      <td>20/08/2019</td>\n",
       "      <td>Los Angeles</td>\n",
       "      <td>0.8779</td>\n",
       "      <td>Positive</td>\n",
       "    </tr>\n",
       "    <tr>\n",
       "      <th>2</th>\n",
       "      <td>Great location! I have stayed at this hotel on my last three trips to New York.</td>\n",
       "      <td>20/08/2019</td>\n",
       "      <td>Georgia</td>\n",
       "      <td>0.6249</td>\n",
       "      <td>Positive</td>\n",
       "    </tr>\n",
       "    <tr>\n",
       "      <th>3</th>\n",
       "      <td>The hotel was adequate for my stay. The strips in the bathtub were useless as I fell while taking a shower. I asked the front desk staff several times to get a bath mat but they never did. Management was unresponsive to my request which was very poor; someone should have gone to a dollar store and gotten a bath mat. Breakfast was good but it would have been nice to have had yogurt and/or cottage cheese on the buffet.</td>\n",
       "      <td>20/08/2019</td>\n",
       "      <td>NaN</td>\n",
       "      <td>-0.0516</td>\n",
       "      <td>Negative</td>\n",
       "    </tr>\n",
       "    <tr>\n",
       "      <th>4</th>\n",
       "      <td>Great location, room was large and spacious. Parking was easy and we appreciated the friendly staff</td>\n",
       "      <td>19/08/2019</td>\n",
       "      <td>Palm Harbor</td>\n",
       "      <td>0.6249</td>\n",
       "      <td>Positive</td>\n",
       "    </tr>\n",
       "  </tbody>\n",
       "</table>\n",
       "</div>"
      ],
      "text/plain": [
       "                                                                                                                                                                                                                                                                                                                                                                                                                                       Review  \\\n",
       "0                                                                                                                                                                                                                                                               I was very impressed with the resort. Great staff at the main resort pool bar! We had a blast with them. Clean, professional staff, great location and very reasonable!         \n",
       "1                                                                                                                                                                                                                                                                                                                           The rooms were nice the outside needs work also no free breakfast it would have been nice overall it was ok         \n",
       "2                                                                                                                                                                                                                                                                                                                                                       Great location! I have stayed at this hotel on my last three trips to New York.         \n",
       "3  The hotel was adequate for my stay. The strips in the bathtub were useless as I fell while taking a shower. I asked the front desk staff several times to get a bath mat but they never did. Management was unresponsive to my request which was very poor; someone should have gone to a dollar store and gotten a bath mat. Breakfast was good but it would have been nice to have had yogurt and/or cottage cheese on the buffet.         \n",
       "4                                                                                                                                                                                                                                                                                                                                   Great location, room was large and spacious. Parking was easy and we appreciated the friendly staff         \n",
       "\n",
       "         date     Location  Sentiment Score    Rating  \n",
       "0  20/08/2019    Sebastian           0.9300  Positive  \n",
       "1  20/08/2019  Los Angeles           0.8779  Positive  \n",
       "2  20/08/2019      Georgia           0.6249  Positive  \n",
       "3  20/08/2019          NaN          -0.0516  Negative  \n",
       "4  19/08/2019  Palm Harbor           0.6249  Positive  "
      ]
     },
     "execution_count": 77,
     "metadata": {},
     "output_type": "execute_result"
    }
   ],
   "source": [
    "df.head()"
   ]
  },
  {
   "cell_type": "code",
   "execution_count": 78,
   "metadata": {},
   "outputs": [],
   "source": [
    "df.rename(columns={'Sentiment Label': 'Sentiment'}, inplace=True)\n"
   ]
  },
  {
   "cell_type": "code",
   "execution_count": 79,
   "metadata": {},
   "outputs": [
    {
     "data": {
      "text/html": [
       "<div>\n",
       "<style scoped>\n",
       "    .dataframe tbody tr th:only-of-type {\n",
       "        vertical-align: middle;\n",
       "    }\n",
       "\n",
       "    .dataframe tbody tr th {\n",
       "        vertical-align: top;\n",
       "    }\n",
       "\n",
       "    .dataframe thead th {\n",
       "        text-align: right;\n",
       "    }\n",
       "</style>\n",
       "<table border=\"1\" class=\"dataframe\">\n",
       "  <thead>\n",
       "    <tr style=\"text-align: right;\">\n",
       "      <th></th>\n",
       "      <th>Review</th>\n",
       "      <th>date</th>\n",
       "      <th>Location</th>\n",
       "      <th>Sentiment Score</th>\n",
       "      <th>Sentiment</th>\n",
       "    </tr>\n",
       "  </thead>\n",
       "  <tbody>\n",
       "    <tr>\n",
       "      <th>0</th>\n",
       "      <td>I was very impressed with the resort. Great staff at the main resort pool bar! We had a blast with them. Clean, professional staff, great location and very reasonable!</td>\n",
       "      <td>20/08/2019</td>\n",
       "      <td>Sebastian</td>\n",
       "      <td>0.9300</td>\n",
       "      <td>Positive</td>\n",
       "    </tr>\n",
       "    <tr>\n",
       "      <th>1</th>\n",
       "      <td>The rooms were nice the outside needs work also no free breakfast it would have been nice overall it was ok</td>\n",
       "      <td>20/08/2019</td>\n",
       "      <td>Los Angeles</td>\n",
       "      <td>0.8779</td>\n",
       "      <td>Positive</td>\n",
       "    </tr>\n",
       "    <tr>\n",
       "      <th>2</th>\n",
       "      <td>Great location! I have stayed at this hotel on my last three trips to New York.</td>\n",
       "      <td>20/08/2019</td>\n",
       "      <td>Georgia</td>\n",
       "      <td>0.6249</td>\n",
       "      <td>Positive</td>\n",
       "    </tr>\n",
       "    <tr>\n",
       "      <th>3</th>\n",
       "      <td>The hotel was adequate for my stay. The strips in the bathtub were useless as I fell while taking a shower. I asked the front desk staff several times to get a bath mat but they never did. Management was unresponsive to my request which was very poor; someone should have gone to a dollar store and gotten a bath mat. Breakfast was good but it would have been nice to have had yogurt and/or cottage cheese on the buffet.</td>\n",
       "      <td>20/08/2019</td>\n",
       "      <td>NaN</td>\n",
       "      <td>-0.0516</td>\n",
       "      <td>Negative</td>\n",
       "    </tr>\n",
       "    <tr>\n",
       "      <th>4</th>\n",
       "      <td>Great location, room was large and spacious. Parking was easy and we appreciated the friendly staff</td>\n",
       "      <td>19/08/2019</td>\n",
       "      <td>Palm Harbor</td>\n",
       "      <td>0.6249</td>\n",
       "      <td>Positive</td>\n",
       "    </tr>\n",
       "  </tbody>\n",
       "</table>\n",
       "</div>"
      ],
      "text/plain": [
       "                                                                                                                                                                                                                                                                                                                                                                                                                                       Review  \\\n",
       "0                                                                                                                                                                                                                                                               I was very impressed with the resort. Great staff at the main resort pool bar! We had a blast with them. Clean, professional staff, great location and very reasonable!         \n",
       "1                                                                                                                                                                                                                                                                                                                           The rooms were nice the outside needs work also no free breakfast it would have been nice overall it was ok         \n",
       "2                                                                                                                                                                                                                                                                                                                                                       Great location! I have stayed at this hotel on my last three trips to New York.         \n",
       "3  The hotel was adequate for my stay. The strips in the bathtub were useless as I fell while taking a shower. I asked the front desk staff several times to get a bath mat but they never did. Management was unresponsive to my request which was very poor; someone should have gone to a dollar store and gotten a bath mat. Breakfast was good but it would have been nice to have had yogurt and/or cottage cheese on the buffet.         \n",
       "4                                                                                                                                                                                                                                                                                                                                   Great location, room was large and spacious. Parking was easy and we appreciated the friendly staff         \n",
       "\n",
       "         date     Location  Sentiment Score Sentiment  \n",
       "0  20/08/2019    Sebastian           0.9300  Positive  \n",
       "1  20/08/2019  Los Angeles           0.8779  Positive  \n",
       "2  20/08/2019      Georgia           0.6249  Positive  \n",
       "3  20/08/2019          NaN          -0.0516  Negative  \n",
       "4  19/08/2019  Palm Harbor           0.6249  Positive  "
      ]
     },
     "execution_count": 79,
     "metadata": {},
     "output_type": "execute_result"
    }
   ],
   "source": [
    "df.head()"
   ]
  },
  {
   "cell_type": "markdown",
   "metadata": {},
   "source": [
    "# EDA"
   ]
  },
  {
   "cell_type": "code",
   "execution_count": 82,
   "metadata": {},
   "outputs": [
    {
     "data": {
      "image/png": "[encoded data removed]",
      "text/plain": [
       "<Figure size 800x600 with 1 Axes>"
      ]
     },
     "metadata": {},
     "output_type": "display_data"
    }
   ],
   "source": [
    "sentiment_counts = df['Sentiment'].value_counts()\n",
    "total_ratings = sentiment_counts.sum()\n",
    "percentage_positive = (sentiment_counts['Positive'] / total_ratings) * 100\n",
    "percentage_negative = (sentiment_counts['Negative'] / total_ratings) * 100\n",
    "percentage_neutral = (sentiment_counts['Neutral'] / total_ratings) * 100\n",
    "\n",
    "\n",
    "# Create a bar plot to visualize the percentage of positive and negative sentiment ratings\n",
    "plt.figure(figsize=(8, 6))\n",
    "sns.barplot(x=['Positive', 'Negative','Neutral'], y=[percentage_positive, percentage_negative, percentage_neutral], palette='Set2')\n",
    "plt.title('Percentage of Positive vs. Negative Sentiment Ratings')\n",
    "plt.ylabel('Percentage (%)')\n",
    "plt.ylim(0, 100)  # Set the y-axis limit to 0-100%\n",
    "plt.show()"
   ]
  },
  {
   "cell_type": "markdown",
   "metadata": {},
   "source": [
    "Positive Reviews (Approximately 80%): The majority of the reviews in your dataset are positive. This suggests that customers are generally satisfied or have a positive sentiment about the products or services being reviewed.\n",
    "\n",
    "Negative Reviews (Approximately 10%): A smaller percentage of reviews are negative, indicating that there are some issues or concerns raised by customers. These reviews may provide valuable insights into areas that need improvement.\n",
    "\n",
    "Neutral Reviews (Approximately 10%): Another small percentage of reviews are neutral, which means they don't strongly express positive or negative sentiment. Neutral reviews might contain factual information or observations without a clear sentiment polarity."
   ]
  },
  {
   "cell_type": "code",
   "execution_count": 88,
   "metadata": {},
   "outputs": [
    {
     "data": {
      "image/png": "[encoded data removed]",
      "text/plain": [
       "<Figure size 1000x600 with 1 Axes>"
      ]
     },
     "metadata": {},
     "output_type": "display_data"
    }
   ],
   "source": [
    "plt.figure(figsize=(10, 6))\n",
    "sns.countplot(x='Year', hue='Sentiment', data=df, palette='coolwarm')\n",
    "plt.title('Sentiment Distribution by Year')\n",
    "plt.xlabel('Year')\n",
    "plt.ylabel('Count')\n",
    "plt.legend(title='Sentiment', loc='upper right')\n",
    "plt.show()"
   ]
  },
  {
   "cell_type": "markdown",
   "metadata": {},
   "source": [
    "Stays Comparison (2018 vs. 2019): The data indicates a substantial increase in the number of hotel stays in the year 2019 compared to 2018. This observation suggests a positive trend in hotel occupancy or demand during that period."
   ]
  },
  {
   "cell_type": "code",
   "execution_count": 91,
   "metadata": {},
   "outputs": [],
   "source": [
    "df1 = df.dropna()"
   ]
  },
  {
   "cell_type": "code",
   "execution_count": 92,
   "metadata": {},
   "outputs": [
    {
     "data": {
      "text/html": [
       "<div>\n",
       "<style scoped>\n",
       "    .dataframe tbody tr th:only-of-type {\n",
       "        vertical-align: middle;\n",
       "    }\n",
       "\n",
       "    .dataframe tbody tr th {\n",
       "        vertical-align: top;\n",
       "    }\n",
       "\n",
       "    .dataframe thead th {\n",
       "        text-align: right;\n",
       "    }\n",
       "</style>\n",
       "<table border=\"1\" class=\"dataframe\">\n",
       "  <thead>\n",
       "    <tr style=\"text-align: right;\">\n",
       "      <th></th>\n",
       "      <th>Review</th>\n",
       "      <th>date</th>\n",
       "      <th>Location</th>\n",
       "      <th>Sentiment Score</th>\n",
       "      <th>Sentiment</th>\n",
       "      <th>Year</th>\n",
       "      <th>Month</th>\n",
       "    </tr>\n",
       "  </thead>\n",
       "  <tbody>\n",
       "    <tr>\n",
       "      <th>0</th>\n",
       "      <td>I was very impressed with the resort. Great staff at the main resort pool bar! We had a blast with them. Clean, professional staff, great location and very reasonable!</td>\n",
       "      <td>2019-08-20</td>\n",
       "      <td>Sebastian</td>\n",
       "      <td>0.9300</td>\n",
       "      <td>Positive</td>\n",
       "      <td>2019</td>\n",
       "      <td>8</td>\n",
       "    </tr>\n",
       "    <tr>\n",
       "      <th>1</th>\n",
       "      <td>The rooms were nice the outside needs work also no free breakfast it would have been nice overall it was ok</td>\n",
       "      <td>2019-08-20</td>\n",
       "      <td>Los Angeles</td>\n",
       "      <td>0.8779</td>\n",
       "      <td>Positive</td>\n",
       "      <td>2019</td>\n",
       "      <td>8</td>\n",
       "    </tr>\n",
       "    <tr>\n",
       "      <th>2</th>\n",
       "      <td>Great location! I have stayed at this hotel on my last three trips to New York.</td>\n",
       "      <td>2019-08-20</td>\n",
       "      <td>Georgia</td>\n",
       "      <td>0.6249</td>\n",
       "      <td>Positive</td>\n",
       "      <td>2019</td>\n",
       "      <td>8</td>\n",
       "    </tr>\n",
       "    <tr>\n",
       "      <th>4</th>\n",
       "      <td>Great location, room was large and spacious. Parking was easy and we appreciated the friendly staff</td>\n",
       "      <td>2019-08-19</td>\n",
       "      <td>Palm Harbor</td>\n",
       "      <td>0.6249</td>\n",
       "      <td>Positive</td>\n",
       "      <td>2019</td>\n",
       "      <td>8</td>\n",
       "    </tr>\n",
       "    <tr>\n",
       "      <th>10</th>\n",
       "      <td>Very clean and friendly and I love the location The restaurant that is inside was excellent for food and service the bathrooms are a little small because they’re vintage but overall I would definitely stay again</td>\n",
       "      <td>2019-08-19</td>\n",
       "      <td>California</td>\n",
       "      <td>0.8720</td>\n",
       "      <td>Positive</td>\n",
       "      <td>2019</td>\n",
       "      <td>8</td>\n",
       "    </tr>\n",
       "  </tbody>\n",
       "</table>\n",
       "</div>"
      ],
      "text/plain": [
       "                                                                                                                                                                                                                       Review  \\\n",
       "0                                               I was very impressed with the resort. Great staff at the main resort pool bar! We had a blast with them. Clean, professional staff, great location and very reasonable!         \n",
       "1                                                                                                           The rooms were nice the outside needs work also no free breakfast it would have been nice overall it was ok         \n",
       "2                                                                                                                                       Great location! I have stayed at this hotel on my last three trips to New York.         \n",
       "4                                                                                                                   Great location, room was large and spacious. Parking was easy and we appreciated the friendly staff         \n",
       "10  Very clean and friendly and I love the location The restaurant that is inside was excellent for food and service the bathrooms are a little small because they’re vintage but overall I would definitely stay again         \n",
       "\n",
       "         date     Location  Sentiment Score Sentiment  Year  Month  \n",
       "0  2019-08-20    Sebastian           0.9300  Positive  2019      8  \n",
       "1  2019-08-20  Los Angeles           0.8779  Positive  2019      8  \n",
       "2  2019-08-20      Georgia           0.6249  Positive  2019      8  \n",
       "4  2019-08-19  Palm Harbor           0.6249  Positive  2019      8  \n",
       "10 2019-08-19   California           0.8720  Positive  2019      8  "
      ]
     },
     "execution_count": 92,
     "metadata": {},
     "output_type": "execute_result"
    }
   ],
   "source": [
    "df1.head()"
   ]
  },
  {
   "cell_type": "code",
   "execution_count": 101,
   "metadata": {},
   "outputs": [
    {
     "data": {
      "image/png": "[encoded data removed]",
      "text/plain": [
       "<Figure size 1000x600 with 1 Axes>"
      ]
     },
     "metadata": {},
     "output_type": "display_data"
    }
   ],
   "source": [
    "df['Month'] = df['date'].dt.month\n",
    "\n",
    "# Group the data by month and calculate the total number of reviews for each month\n",
    "monthly_reviews = df.groupby('Month')['date'].count().reset_index()\n",
    "\n",
    "# Create a bar plot\n",
    "plt.figure(figsize=(10, 6))\n",
    "sns.barplot(x='Month', y='date', data=monthly_reviews, palette='viridis')\n",
    "plt.title('Total Reviews by Month')\n",
    "plt.xlabel('Month')\n",
    "plt.ylabel('Total Reviews')\n",
    "plt.xticks(range(0, 12), ['Jan', 'Feb', 'Mar', 'Apr', 'May', 'Jun', 'Jul', 'Aug', 'Sep', 'Oct', 'Nov', 'Dec'])\n",
    "plt.show()\n"
   ]
  },
  {
   "cell_type": "markdown",
   "metadata": {},
   "source": [
    "High Number of Reviews in August (Aug) and December (Dec): The analysis reveals that August (Aug) and December (Dec) are the months with the highest number of reviews. The higher number of reviews in these months suggests a significant level of activity or stays during these periods."
   ]
  },
  {
   "cell_type": "code",
   "execution_count": 100,
   "metadata": {},
   "outputs": [
    {
     "data": {
      "image/png": "[encoded data removed]",
      "text/plain": [
       "<Figure size 1000x600 with 1 Axes>"
      ]
     },
     "metadata": {},
     "output_type": "display_data"
    }
   ],
   "source": [
    "df['Month'] = df['date'].dt.month\n",
    "\n",
    "# Filter the DataFrame for negative sentiment reviews\n",
    "negative_reviews = df[df['Sentiment'] == 'Negative']\n",
    "\n",
    "# Group the negative reviews by month and calculate the count\n",
    "negative_by_month = negative_reviews.groupby('Month')['Sentiment'].count().reset_index()\n",
    "\n",
    "# Create a bar plot\n",
    "plt.figure(figsize=(10, 6))\n",
    "sns.barplot(x='Month', y='Sentiment', data=negative_by_month, palette='Reds')\n",
    "plt.title('Negative Sentiment Reviews by Month')\n",
    "plt.xlabel('Month')\n",
    "plt.ylabel('Count')\n",
    "plt.xticks(range(0, 12), ['Jan', 'Feb', 'Mar', 'Apr', 'May', 'Jun', 'Jul', 'Aug', 'Sep', 'Oct', 'Nov', 'Dec'])\n",
    "plt.show()"
   ]
  },
  {
   "cell_type": "markdown",
   "metadata": {},
   "source": [
    "Seasonal Factors: Seasonal factors, such as holidays, weather, or special events, may contribute to the higher occurrence of negative reviews during these months. Investigate if any specific events or trends correlate with the negative sentiment."
   ]
  },
  {
   "cell_type": "code",
   "execution_count": 106,
   "metadata": {},
   "outputs": [
    {
     "name": "stderr",
     "output_type": "stream",
     "text": [
      "/var/folders/ng/gk43v8vn0h96mbj67p6xhs0w0000gn/T/ipykernel_27323/341665642.py:10: SettingWithCopyWarning: \n",
      "A value is trying to be set on a copy of a slice from a DataFrame.\n",
      "Try using .loc[row_indexer,col_indexer] = value instead\n",
      "\n",
      "See the caveats in the documentation: https://pandas.pydata.org/pandas-docs/stable/user_guide/indexing.html#returning-a-view-versus-a-copy\n",
      "  df1['Location'] = df['Location'].replace(location_replacements)\n"
     ]
    },
    {
     "data": {
      "image/png": "[encoded data removed]",
      "text/plain": [
       "<Figure size 1200x600 with 1 Axes>"
      ]
     },
     "metadata": {},
     "output_type": "display_data"
    }
   ],
   "source": [
    "reviews_by_location = df1['Location'].value_counts().reset_index()\n",
    "reviews_by_location.columns = ['Location', 'Total Reviews']\n",
    "location_replacements = {\n",
    "    'ny': 'New York',\n",
    "    'NY': 'New York',\n",
    "    'New York, NY': 'New York'\n",
    "}\n",
    "\n",
    "# Use the replace method to apply the replacements to the 'Location' column\n",
    "df1['Location'] = df['Location'].replace(location_replacements)\n",
    "\n",
    "# Create a bar plot\n",
    "plt.figure(figsize=(12, 6))\n",
    "sns.barplot(x='Total Reviews', y='Location', data=reviews_by_location.head(10), palette='Blues_r')\n",
    "plt.title('Total Reviews by Location (Top 10)')\n",
    "plt.xlabel('Total Reviews')\n",
    "plt.ylabel('Location')\n",
    "plt.show()"
   ]
  },
  {
   "cell_type": "markdown",
   "metadata": {},
   "source": [
    "This indicates that the USA is the primary source of reviews in the dataset, suggesting a significant level of participation from this country's residents or visitors."
   ]
  },
  {
   "cell_type": "code",
   "execution_count": 107,
   "metadata": {},
   "outputs": [
    {
     "data": {
      "text/html": [
       "<div>\n",
       "<style scoped>\n",
       "    .dataframe tbody tr th:only-of-type {\n",
       "        vertical-align: middle;\n",
       "    }\n",
       "\n",
       "    .dataframe tbody tr th {\n",
       "        vertical-align: top;\n",
       "    }\n",
       "\n",
       "    .dataframe thead th {\n",
       "        text-align: right;\n",
       "    }\n",
       "</style>\n",
       "<table border=\"1\" class=\"dataframe\">\n",
       "  <thead>\n",
       "    <tr style=\"text-align: right;\">\n",
       "      <th></th>\n",
       "      <th>Review</th>\n",
       "      <th>date</th>\n",
       "      <th>Location</th>\n",
       "      <th>Sentiment Score</th>\n",
       "      <th>Sentiment</th>\n",
       "      <th>Year</th>\n",
       "      <th>Month</th>\n",
       "    </tr>\n",
       "  </thead>\n",
       "  <tbody>\n",
       "    <tr>\n",
       "      <th>0</th>\n",
       "      <td>I was very impressed with the resort. Great staff at the main resort pool bar! We had a blast with them. Clean, professional staff, great location and very reasonable!</td>\n",
       "      <td>2019-08-20</td>\n",
       "      <td>Sebastian</td>\n",
       "      <td>0.9300</td>\n",
       "      <td>Positive</td>\n",
       "      <td>2019</td>\n",
       "      <td>8</td>\n",
       "    </tr>\n",
       "    <tr>\n",
       "      <th>1</th>\n",
       "      <td>The rooms were nice the outside needs work also no free breakfast it would have been nice overall it was ok</td>\n",
       "      <td>2019-08-20</td>\n",
       "      <td>Los Angeles</td>\n",
       "      <td>0.8779</td>\n",
       "      <td>Positive</td>\n",
       "      <td>2019</td>\n",
       "      <td>8</td>\n",
       "    </tr>\n",
       "    <tr>\n",
       "      <th>2</th>\n",
       "      <td>Great location! I have stayed at this hotel on my last three trips to New York.</td>\n",
       "      <td>2019-08-20</td>\n",
       "      <td>Georgia</td>\n",
       "      <td>0.6249</td>\n",
       "      <td>Positive</td>\n",
       "      <td>2019</td>\n",
       "      <td>8</td>\n",
       "    </tr>\n",
       "    <tr>\n",
       "      <th>3</th>\n",
       "      <td>The hotel was adequate for my stay. The strips in the bathtub were useless as I fell while taking a shower. I asked the front desk staff several times to get a bath mat but they never did. Management was unresponsive to my request which was very poor; someone should have gone to a dollar store and gotten a bath mat. Breakfast was good but it would have been nice to have had yogurt and/or cottage cheese on the buffet.</td>\n",
       "      <td>2019-08-20</td>\n",
       "      <td>NaN</td>\n",
       "      <td>-0.0516</td>\n",
       "      <td>Negative</td>\n",
       "      <td>2019</td>\n",
       "      <td>8</td>\n",
       "    </tr>\n",
       "    <tr>\n",
       "      <th>4</th>\n",
       "      <td>Great location, room was large and spacious. Parking was easy and we appreciated the friendly staff</td>\n",
       "      <td>2019-08-19</td>\n",
       "      <td>Palm Harbor</td>\n",
       "      <td>0.6249</td>\n",
       "      <td>Positive</td>\n",
       "      <td>2019</td>\n",
       "      <td>8</td>\n",
       "    </tr>\n",
       "  </tbody>\n",
       "</table>\n",
       "</div>"
      ],
      "text/plain": [
       "                                                                                                                                                                                                                                                                                                                                                                                                                                       Review  \\\n",
       "0                                                                                                                                                                                                                                                               I was very impressed with the resort. Great staff at the main resort pool bar! We had a blast with them. Clean, professional staff, great location and very reasonable!         \n",
       "1                                                                                                                                                                                                                                                                                                                           The rooms were nice the outside needs work also no free breakfast it would have been nice overall it was ok         \n",
       "2                                                                                                                                                                                                                                                                                                                                                       Great location! I have stayed at this hotel on my last three trips to New York.         \n",
       "3  The hotel was adequate for my stay. The strips in the bathtub were useless as I fell while taking a shower. I asked the front desk staff several times to get a bath mat but they never did. Management was unresponsive to my request which was very poor; someone should have gone to a dollar store and gotten a bath mat. Breakfast was good but it would have been nice to have had yogurt and/or cottage cheese on the buffet.         \n",
       "4                                                                                                                                                                                                                                                                                                                                   Great location, room was large and spacious. Parking was easy and we appreciated the friendly staff         \n",
       "\n",
       "        date     Location  Sentiment Score Sentiment  Year  Month  \n",
       "0 2019-08-20    Sebastian           0.9300  Positive  2019      8  \n",
       "1 2019-08-20  Los Angeles           0.8779  Positive  2019      8  \n",
       "2 2019-08-20      Georgia           0.6249  Positive  2019      8  \n",
       "3 2019-08-20          NaN          -0.0516  Negative  2019      8  \n",
       "4 2019-08-19  Palm Harbor           0.6249  Positive  2019      8  "
      ]
     },
     "execution_count": 107,
     "metadata": {},
     "output_type": "execute_result"
    }
   ],
   "source": [
    "df.head()"
   ]
  },
  {
   "cell_type": "code",
   "execution_count": 118,
   "metadata": {},
   "outputs": [],
   "source": [
    "data = pd.read_csv('final_data.csv')"
   ]
  },
  {
   "cell_type": "code",
   "execution_count": null,
   "metadata": {},
   "outputs": [],
   "source": []
  }
 ],
 "metadata": {
  "kernelspec": {
   "display_name": "Python 3",
   "language": "python",
   "name": "python3"
  },
  "language_info": {
   "codemirror_mode": {
    "name": "ipython",
    "version": 3
   },
   "file_extension": ".py",
   "mimetype": "text/x-python",
   "name": "python",
   "nbconvert_exporter": "python",
   "pygments_lexer": "ipython3",
   "version": "3.11.4"
  },
  "orig_nbformat": 4
 },
 "nbformat": 4,
 "nbformat_minor": 2
}
